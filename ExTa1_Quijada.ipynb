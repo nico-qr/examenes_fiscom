{
 "cells": [
  {
   "cell_type": "markdown",
   "id": "54817c47",
   "metadata": {},
   "source": [
    "# Tarea examen 1: Derivación e integración numérica\n",
    "\n",
    "__René Nicolás Quijada Romero__ (2023)\n",
    "\n",
    "---"
   ]
  },
  {
   "cell_type": "markdown",
   "id": "35fff630",
   "metadata": {},
   "source": [
    "## Ejercicio 1: Derivación por diferencias finitas. \n",
    "\n",
    "Segunda derivada con diferencias finitas. "
   ]
  },
  {
   "cell_type": "markdown",
   "id": "58297813",
   "metadata": {},
   "source": [
    "---"
   ]
  },
  {
   "cell_type": "markdown",
   "id": "d4018705",
   "metadata": {},
   "source": [
    "## Ejercicio 2: integración numérica con dos funciones\n",
    "\n",
    "En este ejercicio se implementan dos algoritmos para encontrar las integrales solicitadas con una precisión de $10^{-4}$. La estrategia es la siguiente:\n",
    "\n",
    "- Partir un intervalo en 3 o 4 intervalos (según sea el caso) el intervalo donde se realiza la integral.\n",
    "- Dados 3 o 4 puntos, según sea el caso, calcular la integral de la función en él. \n",
    "- Sumar las integrales de cada subintervalo (uno solo en el primer paso)\n",
    "- Si la precisión no es la requerida, tomar cada subintervalo y repetir el proceso.\n",
    "- Detenerse cuando se alcance la precisión requerida (agregar un frenado de emergencia)\n",
    "\n",
    "Programaremos varias cosas:\n",
    "- Receptor-divisor de intervalos. \n",
    "- Calculador de integral según Simson o Bode. \n",
    "- Validador de precisión\n",
    "- Iterador\n",
    "\n"
   ]
  },
  {
   "cell_type": "markdown",
   "id": "93c6d03d",
   "metadata": {},
   "source": [
    "---"
   ]
  },
  {
   "cell_type": "markdown",
   "id": "5a104f55",
   "metadata": {},
   "source": [
    "   \n",
    "  ## Ejercicio 3: logartimo\n",
    "  \n",
    " En este ejercicio construiremos una función que nos dé el logaritmo de un número y, posteriormente, de un arreglo de números a partir de la definición de integral.\n",
    " \n",
    " Entonces:\n",
    " \n",
    " $$\n",
    " \\ln(x):=\\int_{0}^{x}{\\frac{1}{t}dt}\n",
    " $$\n",
    " \n",
    " ---\n",
    " \n"
   ]
  },
  {
   "cell_type": "code",
   "execution_count": null,
   "id": "f668309a",
   "metadata": {},
   "outputs": [],
   "source": [
    "from pylab import * #Importamos la biblioteca de pylab para nuestras funciones"
   ]
  },
  {
   "cell_type": "code",
   "execution_count": null,
   "id": "18bbe51c",
   "metadata": {},
   "outputs": [],
   "source": [
    "def mi_ln1(x): #La función recibe un valor racional como entrada    "
   ]
  },
  {
   "cell_type": "markdown",
   "id": "e3bb1998",
   "metadata": {},
   "source": [
    "---"
   ]
  },
  {
   "attachments": {},
   "cell_type": "markdown",
   "id": "227b1b1f",
   "metadata": {},
   "source": [
    "#### ¡Eso es todo! :)"
   ]
  }
 ],
 "metadata": {
  "kernelspec": {
   "display_name": "Python 3 (ipykernel)",
   "language": "python",
   "name": "python3"
  },
  "language_info": {
   "codemirror_mode": {
    "name": "ipython",
    "version": 3
   },
   "file_extension": ".py",
   "mimetype": "text/x-python",
   "name": "python",
   "nbconvert_exporter": "python",
   "pygments_lexer": "ipython3",
   "version": "3.9.13"
  }
 },
 "nbformat": 4,
 "nbformat_minor": 5
}
